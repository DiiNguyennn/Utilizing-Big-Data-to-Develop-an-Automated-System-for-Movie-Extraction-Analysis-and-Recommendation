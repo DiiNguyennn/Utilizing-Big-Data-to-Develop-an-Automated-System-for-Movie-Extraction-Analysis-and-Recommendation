{
 "cells": [
  {
   "cell_type": "markdown",
   "metadata": {},
   "source": [
    "# Xây dựng hệ thống gợi ý phim "
   ]
  },
  {
   "cell_type": "markdown",
   "metadata": {},
   "source": [
    "## 1. Chuẩn bị dữ liệu"
   ]
  },
  {
   "cell_type": "markdown",
   "metadata": {},
   "source": [
    "Tải các thư viện cần thiết."
   ]
  },
  {
   "cell_type": "code",
   "execution_count": 1,
   "metadata": {},
   "outputs": [],
   "source": [
    "# Thư viện để tạo SparkSession, điểm khởi đầu cho PySpark\n",
    "from pyspark.sql import SparkSession\n",
    "# Thư viện cung cấp hàm col để tham chiếu và xử lý các cột trong DataFrame\n",
    "from pyspark.sql.functions import col\n",
    "# Thư viện cung cấp các hàm xử lý dữ liệu cho DataFrame\n",
    "from pyspark.sql import functions as F\n",
    "\n",
    "# Thư viện xử lý các mảng (array), đại số tuyến tính, thống kê, và các phép toán khoa học khác.\n",
    "import numpy as np\n",
    "# Hàm sqrt (tính căn bậc hai) từ module math,\n",
    "from math import sqrt\n",
    "# Thư viện vẽ đồ thị và trực quan hóa dữ liệu\n",
    "import matplotlib.pyplot as plt\n",
    "\n",
    "# Thư viện đánh giá mô hình hồi quy sử dụng các chỉ số như RMSE (Root Mean Square Error)\n",
    "from pyspark.ml.evaluation import RegressionEvaluator\n",
    "# Thuật toán ALS (Alternating Least Squares) để xây dựng hệ thống gợi ý cho dữ liệu người dùng và phim\n",
    "from pyspark.ml.recommendation import ALS\n",
    "# Thư viện chuyển đổi các giá trị chuỗi thành chỉ số số học cho các cột phân loại\n",
    "from pyspark.ml.feature import StringIndexer"
   ]
  },
  {
   "cell_type": "markdown",
   "metadata": {},
   "source": [
    "Tạo SparkSession mang tên \"_Recommender System using ALS_\", kết nối đến datawarehouse (datawarehouse.duckdb) thông qua trình điều khiển JDBC DuckDB."
   ]
  },
  {
   "cell_type": "code",
   "execution_count": 2,
   "metadata": {},
   "outputs": [
    {
     "name": "stderr",
     "output_type": "stream",
     "text": [
      "24/12/24 15:34:28 WARN Utils: Your hostname, diin resolves to a loopback address: 127.0.1.1; using 192.168.1.26 instead (on interface wlo1)\n",
      "24/12/24 15:34:28 WARN Utils: Set SPARK_LOCAL_IP if you need to bind to another address\n",
      "24/12/24 15:34:28 WARN NativeCodeLoader: Unable to load native-hadoop library for your platform... using builtin-java classes where applicable\n",
      "Setting default log level to \"WARN\".\n",
      "To adjust logging level use sc.setLogLevel(newLevel). For SparkR, use setLogLevel(newLevel).\n"
     ]
    }
   ],
   "source": [
    "# Đường dẫn đến trình điều khiển JDBC DuckDB (tệp JAR)\n",
    "duck_db_jdbc = \"/home/diin/HocKi_7/DE_project/duckdb_jdbc-1.1.3.jar\"\n",
    "# Tạo SparkSession\n",
    "spark = SparkSession.builder \\\n",
    "    .appName(\"Recommender System using ALS and SGD\") \\\n",
    "    .config(\"spark.jars\", duck_db_jdbc) \\\n",
    "    .getOrCreate()\n",
    "\n",
    "# Đường dẫn của Datawarehouse\n",
    "datawarehouse_path ='/home/diin/HocKi_7/DE_project/warehouse/datawarehouse.duckdb'\n",
    "\n",
    "# Kết nối Spark với Datawarehouse\n",
    "jdbc_url = f\"jdbc:duckdb:{datawarehouse_path}\""
   ]
  },
  {
   "cell_type": "markdown",
   "metadata": {},
   "source": [
    "Lấy 2 bảng dữ liệu với bảng rating sẽ được dùng để huấn luyện mô hình và bảng movie dùng để in ra thông tin của phim cho bước gợi ý phim."
   ]
  },
  {
   "cell_type": "code",
   "execution_count": 3,
   "metadata": {},
   "outputs": [],
   "source": [
    "# Tải rating_df vào Spark DataFrame\n",
    "rating_df = spark.read.format(\"jdbc\") \\\n",
    "    .option(\"url\", jdbc_url) \\\n",
    "    .option(\"dbtable\", \"(SELECT * FROM rating) AS rating\") \\\n",
    "    .option(\"driver\", \"org.duckdb.DuckDBDriver\") \\\n",
    "    .load()\n",
    "# Tải rating_df vào Spark DataFrame\n",
    "movie_df = spark.read.format(\"jdbc\") \\\n",
    "    .option(\"url\", jdbc_url) \\\n",
    "    .option(\"dbtable\", \"(SELECT * FROM movie) AS movie\") \\\n",
    "    .option(\"driver\", \"org.duckdb.DuckDBDriver\") \\\n",
    "    .load()"
   ]
  },
  {
   "cell_type": "markdown",
   "metadata": {},
   "source": [
    "Kiểm tra dữ liệu của 2 bảng đã được lấy ra "
   ]
  },
  {
   "cell_type": "code",
   "execution_count": 4,
   "metadata": {},
   "outputs": [
    {
     "name": "stderr",
     "output_type": "stream",
     "text": [
      "                                                                                \r"
     ]
    },
    {
     "name": "stdout",
     "output_type": "stream",
     "text": [
      "+--------------------+--------+----------------+--------------------+------+----+-----+---+----+\n",
      "|         movie_title|movie_id|         user_id|              author|rating|year|month|day|hour|\n",
      "+--------------------+--------+----------------+--------------------+------+----+-----+---+----+\n",
      "|           Elemental|  976573|      msbreviews|    Manuel São Bento|  8.00|2023|    7| 20|   9|\n",
      "|      Anyone But You| 1072790|    Geronimo1967|          CinemaSerf|  7.00|2023|   12| 30|  11|\n",
      "|Mission: Impossib...|  575264|       mooney240|       The Movie Mob|  7.00|2023|    7| 12|   5|\n",
      "|               Alien|     348|     Otokichi786|      Patrick E. Abe|  8.00|2016|    9| 21|   8|\n",
      "|            Zootopia|  269149|    Geronimo1967|          CinemaSerf|  7.00|2024|    1|  2|   8|\n",
      "|Terminator 2: Jud...|     280|    BryceSpencer|        BryceSpencer| 10.00|2023|    1| 29|   0|\n",
      "|xXx: Return of Xa...|   47971|       Dark Jedi|  Per Gunnar Jonsson|  4.00|2017|    6| 12|  10|\n",
      "|  The Little Mermaid|  447277|   screenzealots|Louisa Moore - Sc...|  6.00|2023|    8|  4|   7|\n",
      "|          Cinderella|   11224|    Geronimo1967|          CinemaSerf|  7.00|2022|   12| 27|  13|\n",
      "|Once Upon a Time....|  466272|      narrator56|        Peter McGinn|  9.00|2020|    4|  3|  13|\n",
      "|              Cars 3|  260514|           r96sk|               r96sk|  7.00|2020|    8| 11|  13|\n",
      "|               Logan|  263115|       Dark Jedi|  Per Gunnar Jonsson|  4.00|2017|    7| 21|  12|\n",
      "|      The Apprentice| 1182047|  chandlerdanier|     Chandler Danier|  8.00|2024|   12| 10|   1|\n",
      "|John Wick: Chapte...|  458156|    tmdb47396461|        tmdb47396461|  4.00|2019|    5| 17|   2|\n",
      "|Star Wars: The La...|  181808|       Dark Jedi|  Per Gunnar Jonsson| 10.00|2017|   12| 27|  14|\n",
      "|          Past Lives|  666277|      BornKnight|          BornKnight| 10.00|2024|    1| 28|  17|\n",
      "|The Empire Strike...|    1891|          Wuchak|              Wuchak|  7.00|2020|    7| 26|   3|\n",
      "|        Blade Runner|      78|      portman123|          portman123| 10.00|2024|    1| 13|  16|\n",
      "|Ant-Man and the W...|  640146|   screenzealots|Louisa Moore - Sc...|  3.00|2023|    4| 23|   6|\n",
      "|2001: A Space Ody...|      62|FilipeManuelNeto|  Filipe Manuel Neto|  2.00|2022|   12| 23|  20|\n",
      "+--------------------+--------+----------------+--------------------+------+----+-----+---+----+\n",
      "only showing top 20 rows\n",
      "\n"
     ]
    }
   ],
   "source": [
    "# Hiển thị 10 hàng đầu tiên của DataFrame rating_df.\n",
    "rating_df.show()"
   ]
  },
  {
   "cell_type": "code",
   "execution_count": 5,
   "metadata": {},
   "outputs": [
    {
     "name": "stdout",
     "output_type": "stream",
     "text": [
      "+-------+--------------------+-----------------+------------+----------+----------+-------+---------------+------------+-------------+-----------+\n",
      "|     id|               title|original_language|vote_average|vote_count|popularity|runtime|          genre|release_year|release_month|release_day|\n",
      "+-------+--------------------+-----------------+------------+----------+----------+-------+---------------+------------+-------------+-----------+\n",
      "|1000075|The Price of Mone...|               fr|         5.6|        56|   1181.32|    100|         Action|        2024|            7|         31|\n",
      "|1000075|The Price of Mone...|               fr|         5.6|        56|   1181.32|    100|      Adventure|        2024|            7|         31|\n",
      "|1000075|The Price of Mone...|               fr|         5.6|        56|   1181.32|    100|       Thriller|        2024|            7|         31|\n",
      "| 572802|Aquaman and the L...|               en|         6.7|      2845|    120.55|    124|         Action|        2023|           12|         20|\n",
      "| 572802|Aquaman and the L...|               en|         6.7|      2845|    120.55|    124|      Adventure|        2023|           12|         20|\n",
      "| 572802|Aquaman and the L...|               en|         6.7|      2845|    120.55|    124|        Fantasy|        2023|           12|         20|\n",
      "| 493529|Dungeons & Dragon...|               en|         7.4|      3645|    108.37|    134|      Adventure|        2023|            3|         23|\n",
      "| 493529|Dungeons & Dragon...|               en|         7.4|      3645|    108.37|    134|        Fantasy|        2023|            3|         23|\n",
      "| 493529|Dungeons & Dragon...|               en|         7.4|      3645|    108.37|    134|         Comedy|        2023|            3|         23|\n",
      "| 436969|   The Suicide Squad|               en|         7.5|      8646|     86.79|    132|         Action|        2021|            7|         28|\n",
      "| 436969|   The Suicide Squad|               en|         7.5|      8646|     86.79|    132|         Comedy|        2021|            7|         28|\n",
      "| 436969|   The Suicide Squad|               en|         7.5|      8646|     86.79|    132|      Adventure|        2021|            7|         28|\n",
      "| 351523|  Purpose of Reunion|               ko|         5.3|        19|     82.21|    100|        Romance|        2015|            8|          6|\n",
      "| 351523|  Purpose of Reunion|               ko|         5.3|        19|     82.21|    100|          Drama|        2015|            8|          6|\n",
      "| 294254|Maze Runner: The ...|               en|         6.7|     10365|     63.66|    131|Science Fiction|        2015|            9|          9|\n",
      "| 294254|Maze Runner: The ...|               en|         6.7|     10365|     63.66|    131|         Action|        2015|            9|          9|\n",
      "| 294254|Maze Runner: The ...|               en|         6.7|     10365|     63.66|    131|       Thriller|        2015|            9|          9|\n",
      "| 294254|Maze Runner: The ...|               en|         6.7|     10365|     63.66|    131|      Adventure|        2015|            9|          9|\n",
      "|  14258|      Wonderful Days|               ko|         6.1|       158|     43.90|     86|      Animation|        2003|            7|         17|\n",
      "|  14258|      Wonderful Days|               ko|         6.1|       158|     43.90|     86|Science Fiction|        2003|            7|         17|\n",
      "+-------+--------------------+-----------------+------------+----------+----------+-------+---------------+------------+-------------+-----------+\n",
      "only showing top 20 rows\n",
      "\n"
     ]
    }
   ],
   "source": [
    "# Hiển thị 10 hàng đầu tiên của DataFrame movie_df.\n",
    "movie_df.show()"
   ]
  },
  {
   "cell_type": "markdown",
   "metadata": {},
   "source": [
    "Vì ở đây cột user_id đang có dạng \"_string_\" vì thế chúng ta cần chuyển thành dạng \"_numeric_\" để có thể huấn luyện mô hình bằng các sử dụng hàm _StringIndexer()_ và tạo ra 1 cột mới \"_user_index_\""
   ]
  },
  {
   "cell_type": "code",
   "execution_count": 6,
   "metadata": {},
   "outputs": [
    {
     "name": "stderr",
     "output_type": "stream",
     "text": [
      "                                                                                \r"
     ]
    }
   ],
   "source": [
    "user_indexer = StringIndexer(inputCol=\"user_id\", outputCol=\"user_index\")\n",
    "rating_df = user_indexer.fit(rating_df).transform(rating_df)"
   ]
  },
  {
   "cell_type": "markdown",
   "metadata": {},
   "source": [
    "Kiểm tra lại rating_df"
   ]
  },
  {
   "cell_type": "code",
   "execution_count": 7,
   "metadata": {},
   "outputs": [
    {
     "name": "stdout",
     "output_type": "stream",
     "text": [
      "+--------------------+--------+----------------+--------------------+------+----+-----+---+----+----------+\n",
      "|         movie_title|movie_id|         user_id|              author|rating|year|month|day|hour|user_index|\n",
      "+--------------------+--------+----------------+--------------------+------+----+-----+---+----+----------+\n",
      "|           Elemental|  976573|      msbreviews|    Manuel São Bento|  8.00|2023|    7| 20|   9|       5.0|\n",
      "|      Anyone But You| 1072790|    Geronimo1967|          CinemaSerf|  7.00|2023|   12| 30|  11|       0.0|\n",
      "|Mission: Impossib...|  575264|       mooney240|       The Movie Mob|  7.00|2023|    7| 12|   5|      11.0|\n",
      "|               Alien|     348|     Otokichi786|      Patrick E. Abe|  8.00|2016|    9| 21|   8|     128.0|\n",
      "|            Zootopia|  269149|    Geronimo1967|          CinemaSerf|  7.00|2024|    1|  2|   8|       0.0|\n",
      "|Terminator 2: Jud...|     280|    BryceSpencer|        BryceSpencer| 10.00|2023|    1| 29|   0|     140.0|\n",
      "|xXx: Return of Xa...|   47971|       Dark Jedi|  Per Gunnar Jonsson|  4.00|2017|    6| 12|  10|      13.0|\n",
      "|  The Little Mermaid|  447277|   screenzealots|Louisa Moore - Sc...|  6.00|2023|    8|  4|   7|      21.0|\n",
      "|          Cinderella|   11224|    Geronimo1967|          CinemaSerf|  7.00|2022|   12| 27|  13|       0.0|\n",
      "|Once Upon a Time....|  466272|      narrator56|        Peter McGinn|  9.00|2020|    4|  3|  13|      16.0|\n",
      "|              Cars 3|  260514|           r96sk|               r96sk|  7.00|2020|    8| 11|  13|       3.0|\n",
      "|               Logan|  263115|       Dark Jedi|  Per Gunnar Jonsson|  4.00|2017|    7| 21|  12|      13.0|\n",
      "|      The Apprentice| 1182047|  chandlerdanier|     Chandler Danier|  8.00|2024|   12| 10|   1|      26.0|\n",
      "|John Wick: Chapte...|  458156|    tmdb47396461|        tmdb47396461|  4.00|2019|    5| 17|   2|    1081.0|\n",
      "|Star Wars: The La...|  181808|       Dark Jedi|  Per Gunnar Jonsson| 10.00|2017|   12| 27|  14|      13.0|\n",
      "|          Past Lives|  666277|      BornKnight|          BornKnight| 10.00|2024|    1| 28|  17|      34.0|\n",
      "|The Empire Strike...|    1891|          Wuchak|              Wuchak|  7.00|2020|    7| 26|   3|       4.0|\n",
      "|        Blade Runner|      78|      portman123|          portman123| 10.00|2024|    1| 13|  16|     186.0|\n",
      "|Ant-Man and the W...|  640146|   screenzealots|Louisa Moore - Sc...|  3.00|2023|    4| 23|   6|      21.0|\n",
      "|2001: A Space Ody...|      62|FilipeManuelNeto|  Filipe Manuel Neto|  2.00|2022|   12| 23|  20|       9.0|\n",
      "+--------------------+--------+----------------+--------------------+------+----+-----+---+----+----------+\n",
      "only showing top 20 rows\n",
      "\n"
     ]
    }
   ],
   "source": [
    "rating_df.show()"
   ]
  },
  {
   "cell_type": "markdown",
   "metadata": {},
   "source": [
    "Vì ở \"_movie_df_\" các dữ liệu phim đã được tách thành các hàng để có cái nhìn rõ hơn về cột \"_genre_\". Nhưng hiện tại đối với \"_movie_df_\" chỉ sử dụng để hiển thị vì thế chúng ta sẽ gộp các dữ liệu phim lại với "
   ]
  },
  {
   "cell_type": "code",
   "execution_count": 8,
   "metadata": {},
   "outputs": [
    {
     "name": "stderr",
     "output_type": "stream",
     "text": [
      "[Stage 6:>                                                          (0 + 1) / 1]\r"
     ]
    },
    {
     "name": "stdout",
     "output_type": "stream",
     "text": [
      "+---+--------------------+-----------------+------------+-------+------------+--------------------+\n",
      "| id|               title|original_language|vote_average|runtime|release_year|              genres|\n",
      "+---+--------------------+-----------------+------------+-------+------------+--------------------+\n",
      "|  5|          Four Rooms|               en|         5.9|     98|        1995|            [Comedy]|\n",
      "|  6|      Judgment Night|               en|         6.5|    109|        1993|[Thriller, Action...|\n",
      "| 11|           Star Wars|               en|         8.2|    121|        1977|[Action, Adventur...|\n",
      "| 12|        Finding Nemo|               en|         7.8|    100|        2003| [Animation, Family]|\n",
      "| 13|        Forrest Gump|               en|         8.5|    142|        1994|[Comedy, Drama, R...|\n",
      "| 14|     American Beauty|               en|         8.0|    122|        1999|             [Drama]|\n",
      "| 15|        Citizen Kane|               en|         8.0|    119|        1941|    [Drama, Mystery]|\n",
      "| 16|  Dancer in the Dark|               en|         7.9|    140|        2000|      [Crime, Drama]|\n",
      "| 18|   The Fifth Element|               fr|         7.6|    126|        1997|[Action, Science ...|\n",
      "| 19|          Metropolis|               de|         8.1|    148|        1927|[Science Fiction,...|\n",
      "| 22|Pirates of the Ca...|               en|         7.8|    143|        2003|[Fantasy, Action,...|\n",
      "| 24|   Kill Bill: Vol. 1|               en|         8.0|    111|        2003|     [Action, Crime]|\n",
      "| 25|             Jarhead|               en|         6.7|    123|        2005|        [War, Drama]|\n",
      "| 27|             9 Songs|               en|         5.6|     69|        2004|[Drama, Romance, ...|\n",
      "| 28|      Apocalypse Now|               en|         8.3|    147|        1979|        [War, Drama]|\n",
      "| 33|          Unforgiven|               en|         7.9|    130|        1992|           [Western]|\n",
      "| 35|  The Simpsons Movie|               en|         7.0|     87|        2007|[Comedy, Animatio...|\n",
      "| 38|Eternal Sunshine ...|               en|         8.1|    108|        2004|[Science Fiction,...|\n",
      "| 55|       Amores Perros|               es|         7.6|    154|        2000|   [Thriller, Drama]|\n",
      "| 58|Pirates of the Ca...|               en|         7.4|    151|        2006|[Fantasy, Action,...|\n",
      "+---+--------------------+-----------------+------------+-------+------------+--------------------+\n",
      "only showing top 20 rows\n",
      "\n"
     ]
    },
    {
     "name": "stderr",
     "output_type": "stream",
     "text": [
      "                                                                                \r"
     ]
    }
   ],
   "source": [
    "# Nhóm dữ liệu phim theo các cột đặc trưng, kết hợp cột thể loại và bỏ các cột không cần thiết\n",
    "new_movie_df = movie_df.groupBy(\"id\", \"title\", \"original_language\", \"vote_average\", \"runtime\", \n",
    "                       \"release_year\", \"release_month\", \"release_day\") \\\n",
    "                    .agg(F.collect_set(\"genre\").alias(\"genres\")) \\\n",
    "                    .drop(\"release_month\",\"release_day\")\n",
    "new_movie_df.show()"
   ]
  },
  {
   "cell_type": "markdown",
   "metadata": {},
   "source": [
    "## 2. ALS model(Alternating Least Squares)."
   ]
  },
  {
   "cell_type": "markdown",
   "metadata": {},
   "source": [
    "### 2.1 Huấn luyện và tạo phim gợi ý mô hình."
   ]
  },
  {
   "cell_type": "markdown",
   "metadata": {},
   "source": [
    "Xác định tỷ lệ chia dữ liệu:\n",
    "- 80% dữ liệu được đưa vào tập huấn luyện (training).\n",
    "- 20% dữ liệu còn lại được đưa vào tập kiểm tra (test)."
   ]
  },
  {
   "cell_type": "code",
   "execution_count": 9,
   "metadata": {},
   "outputs": [],
   "source": [
    "(training, test) = rating_df.randomSplit([0.8, 0.2])"
   ]
  },
  {
   "cell_type": "markdown",
   "metadata": {},
   "source": [
    "Huấn luyện mô hình và tính giá trị RMSE"
   ]
  },
  {
   "cell_type": "code",
   "execution_count": 10,
   "metadata": {},
   "outputs": [
    {
     "name": "stdout",
     "output_type": "stream",
     "text": [
      "Epoch:   1 |    RMSE: 7.8463255929263305\n",
      "Epoch:   2 |    RMSE: 7.205598918158347\n",
      "Epoch:   4 |    RMSE: 6.598359126324763\n",
      "Epoch:   6 |    RMSE: 6.189775013933313\n",
      "Epoch:   8 |    RMSE: 5.873605130512557\n",
      "Epoch:  10 |    RMSE: 5.618659844503464\n",
      "Epoch:  12 |    RMSE: 5.406684339737583\n",
      "Epoch:  14 |    RMSE: 5.228692916269302\n",
      "Epoch:  16 |    RMSE: 5.075860428816962\n",
      "Epoch:  18 |    RMSE: 4.94361946864041\n",
      "Epoch:  20 |    RMSE: 4.827517040322162\n",
      "Giá trị trung bình của RMSE: 5.784000690985013\n"
     ]
    },
    {
     "data": {
      "image/png": "[encoded data removed]",
      "text/plain": [
       "<Figure size 640x480 with 1 Axes>"
      ]
     },
     "metadata": {},
     "output_type": "display_data"
    }
   ],
   "source": [
    "# Danh sách để lưu trữ giá trị RMSE cho mỗi cấu hình\n",
    "rmse_values = []\n",
    "epochs = 20\n",
    "\n",
    "# Chạy mô hình với các số vòng lặp khác nhau\n",
    "for epoch in range(1,epochs+1):\n",
    "    als = ALS(maxIter=epoch, regParam=0.01, userCol=\"user_index\", itemCol=\"movie_id\", ratingCol=\"rating\", coldStartStrategy=\"drop\")\n",
    "    model = als.fit(training)\n",
    "\n",
    "    # Dự đoán và tính toán RMSE\n",
    "    predictions = model.transform(test)\n",
    "    evaluator = RegressionEvaluator(metricName=\"rmse\", labelCol=\"rating\", predictionCol=\"prediction\")\n",
    "    rmse = evaluator.evaluate(predictions)\n",
    "    \n",
    "    if epoch == 1 or epoch % 2 == 0:\n",
    "        print(f\"Epoch: {epoch:>3} |    RMSE: {rmse}\")\n",
    "    # Lưu giá trị RMSE vào danh sách rmse_values\n",
    "    rmse_values.append(rmse)\n",
    "rmse_avg = sum(rmse for rmse in rmse_values) / len(rmse_values)\n",
    "\n",
    "print(f\"Giá trị trung bình của RMSE: {rmse_avg}\")\n",
    "# Vẽ đồ thị RMSE theo số vòng lặp\n",
    "plt.plot(rmse_values)\n",
    "plt.title(\"RMSE over different iterations\")\n",
    "plt.xlabel(\"Epochs\")\n",
    "plt.ylabel(\"RMSE\")\n",
    "plt.show()"
   ]
  },
  {
   "cell_type": "markdown",
   "metadata": {},
   "source": [
    "1. RMSE qua từng epoch\n",
    "\n",
    "- Giai đoạn giảm mạnh ban đầu (Epoch 1-4): \n",
    "    RMSE giảm từ 7.846 xuống 6.598, cho thấy mô hình nhanh chóng học được các đặc điểm chính từ dữ liệu. Đây là giai đoạn học sâu đầu tiên, nơi mô hình giảm được các lỗi cơ bản trong dự đoán.\n",
    "\n",
    "- Giai đoạn giảm dần đều (Epoch 6-10): \n",
    "    RMSE giảm từ 6.18 xuống 5.61. Tốc độ giảm chậm hơn, điều này thường xảy ra khi mô hình bắt đầu tối ưu hóa trên các phần chi tiết hơn của dữ liệu.\n",
    "\n",
    "- Giai đoạn hội tụ (Epoch 12-20): \n",
    "    RMSE giảm từ 5.40 xuống 4.82. Mức giảm nhỏ hơn, cho thấy mô hình đã gần đạt đến mức tối ưu và hội tụ tốt.\n",
    "\n",
    "2. Phân tích biểu đồ RMSE\n",
    "\n",
    "- Xu hướng: \n",
    "    Biểu đồ RMSE giảm dần một cách đều đặn, không có dấu hiệu tăng đột ngột hoặc dao động lớn, chứng minh tính ổn định của thuật toán ALS.\n",
    "\n",
    "- Đường cong giảm chậm dần: \n",
    "    Ban đầu, RMSE giảm nhanh, đặc biệt trong 5-8 epoch đầu tiên, sau đó tốc độ giảm trở nên chậm hơn (phẳng dần) từ epoch 10 trở đi. Điều này phù hợp với quá trình tối ưu hóa thông thường khi mô hình tiến đến hội tụ.\n",
    "\n",
    "3. Kết luận tổng quan\n",
    "\n",
    "- Hiệu suất mô hình: \n",
    "    Với giá trị RMSE giảm từ 7.846 (epoch 1) xuống 4.827 (epoch 20) và trung bình RMSE là 5.784, mô hình đã học hiệu quả từ dữ liệu và hội tụ tốt.\n",
    "\n",
    "- Hội tụ ổn định: \n",
    "    Biểu đồ minh họa rằng mô hình không gặp vấn đề như overfitting hay underfitting. Việc RMSE tiếp tục giảm trong các epoch cuối cùng cho thấy mô hình vẫn còn tiềm năng học thêm."
   ]
  },
  {
   "cell_type": "markdown",
   "metadata": {},
   "source": [
    "### 2.2. Hệ thống gợi ý phim"
   ]
  },
  {
   "cell_type": "code",
   "execution_count": 11,
   "metadata": {},
   "outputs": [
    {
     "name": "stdout",
     "output_type": "stream",
     "text": [
      "Top 10 bộ phim được gợi ý cho người dùng Dark Jedi:\n"
     ]
    },
    {
     "name": "stderr",
     "output_type": "stream",
     "text": [
      "                                                                                \r"
     ]
    },
    {
     "name": "stdout",
     "output_type": "stream",
     "text": [
      "+--------+--------------------+-----------------+------------+-------+--------------------+------------+\n",
      "|movie_id|               title|original_language|vote_average|runtime|              genres|release_year|\n",
      "+--------+--------------------+-----------------+------------+-------+--------------------+------------+\n",
      "|  333484|The Magnificent S...|               en|         6.5|    132|[Action, Adventur...|        2016|\n",
      "|     155|     The Dark Knight|               en|         8.5|    152|[Thriller, Action...|        2008|\n",
      "|   68718|    Django Unchained|               en|         8.2|    165|    [Drama, Western]|        2012|\n",
      "|  333339|    Ready Player One|               en|         7.6|    140|[Action, Adventur...|        2018|\n",
      "|     755| From Dusk Till Dawn|               en|         7.0|    108|[Thriller, Action...|        1996|\n",
      "|  339964|Valerian and the ...|               en|         6.6|    137|[Action, Adventur...|        2017|\n",
      "|   11622| Blast from the Past|               en|         6.8|    112|[Comedy, Drama, R...|        1999|\n",
      "|  866398|       The Beekeeper|               en|         7.3|    105|[Thriller, Action...|        2024|\n",
      "|  205584|       Gods of Egypt|               en|         5.7|    127|[Action, Fantasy,...|        2016|\n",
      "|  341013|       Atomic Blonde|               en|         6.4|    115|[Thriller, Action...|        2017|\n",
      "+--------+--------------------+-----------------+------------+-------+--------------------+------------+\n",
      "\n"
     ]
    }
   ],
   "source": [
    "# Người dùng có user_id = 13\n",
    "user_id_input = 13\n",
    "user_id = rating_df.select(\"user_id\").filter(col(\"user_index\") == user_id_input).first()\n",
    "print(f'Top 10 bộ phim được gợi ý cho người dùng {user_id[\"user_id\"]}:')\n",
    "# Tạo danh sách 10 bộ phim được đề xuất cho tất cả người dùng\n",
    "userRecs = model.recommendForAllUsers(10)\n",
    "# Lọc danh sách các đề xuất cho user_id cụ thể\n",
    "user_specific_recs = userRecs.filter(col(\"user_index\") == user_id_input)\n",
    "\n",
    "# Tách cột 'recommendations' và tách thành cột 'movie_id' và 'rating'\n",
    "user_specific_recs = user_specific_recs.select(\"user_index\", \"recommendations\") \\\n",
    "    .rdd.flatMap(lambda x: x[1]) \\\n",
    "    .toDF([\"movie_id\", \"rating\"])\n",
    "\n",
    "# Kết hợp thông tin phim dựa trên movie_id để có thêm chi tiết\n",
    "movie_recs_with_info = user_specific_recs.join(new_movie_df, user_specific_recs[\"movie_id\"] == new_movie_df[\"id\"]) \\\n",
    "    .select(  # Lựa chọn các cột cần thiết để hiển thị\n",
    "        user_specific_recs[\"movie_id\"], \n",
    "        new_movie_df[\"title\"], \n",
    "        new_movie_df[\"original_language\"],\n",
    "        new_movie_df[\"vote_average\"], \n",
    "        new_movie_df[\"runtime\"],\n",
    "        new_movie_df[\"genres\"], \n",
    "        new_movie_df[\"release_year\"]\n",
    "    )\n",
    "# Hiển thị danh sách các bộ phim được đề xuất cùng thông tin chi tiết\n",
    "movie_recs_with_info.show()"
   ]
  },
  {
   "cell_type": "markdown",
   "metadata": {},
   "source": [
    "## 3. SGD (Stochastic gradient descent)"
   ]
  },
  {
   "cell_type": "markdown",
   "metadata": {},
   "source": [
    "### 3.1. Huấn luyện và kiếm tra mô hình."
   ]
  },
  {
   "cell_type": "code",
   "execution_count": 12,
   "metadata": {},
   "outputs": [],
   "source": [
    "# Sử dụng StringIndexer để chuẩn hóa các chỉ số và phim\n",
    "movie_indexer = StringIndexer(inputCol=\"movie_id\", outputCol=\"movie_index\")\n",
    "# Áp dụng StringIndexer cho cả hai cột và movie_id\n",
    "rating_df = movie_indexer.fit(rating_df).transform(rating_df)"
   ]
  },
  {
   "cell_type": "code",
   "execution_count": 13,
   "metadata": {},
   "outputs": [],
   "source": [
    "# Chia dữ liệu thành 80% cho tập train và 20% cho tập test\n",
    "train_data, test_data = rating_df.randomSplit([0.8, 0.2])\n",
    "\n",
    "# Lấy số lượng người dùng và phim từ các chỉ số mới\n",
    "num_users = rating_df.select(\"user_index\").distinct().count()  # Số lượng người dùng\n",
    "num_movies = rating_df.select(\"movie_index\").distinct().count()  # Số lượng phim\n",
    "\n",
    "num_latent_features = 10  # Số lượng đặc trưng tiềm ẩn\n",
    "P = np.random.rand(num_users, num_latent_features) * 0.1\n",
    "Q = np.random.rand(num_movies, num_latent_features) * 0.1"
   ]
  },
  {
   "cell_type": "markdown",
   "metadata": {},
   "source": [
    "Huấn luyện, đánh giá mô hình và tính giá trị RMSE"
   ]
  },
  {
   "cell_type": "markdown",
   "metadata": {},
   "source": [
    "Xây dựng các vector và hàm cập nhật giá trị"
   ]
  },
  {
   "cell_type": "code",
   "execution_count": 14,
   "metadata": {},
   "outputs": [],
   "source": [
    "# Tốc độ học (learning rate), hệ số điều chuẩn (regularization) và số vòng lặp (epochs)\n",
    "learning_rate = 0.01\n",
    "regularization = 0.01\n",
    "epochs = 50\n",
    "rmse_train_list = []\n",
    "# Hàm cập nhật\n",
    "def update(row):\n",
    "    user, movie, rating = row\n",
    "    pred = np.dot(P[user], Q[movie])  # Tính điểm dự đoán (dot product giữa vector người dùng và vector phim)\n",
    "    error = rating - pred  # Tính lỗi dự đoán (rating thật - dự đoán)\n",
    "\n",
    "    # Cập nhật vector người dùng và vector phim bằng SGD\n",
    "    P[user] += learning_rate * (error * Q[movie] - regularization * P[user])\n",
    "    Q[movie] += learning_rate * (error * P[user] - regularization * Q[movie])\n",
    "\n",
    "    return user, movie, rating, P, Q, error**2"
   ]
  },
  {
   "cell_type": "markdown",
   "metadata": {},
   "source": [
    "Huấn luyện mô hình và vẽ đồ thị"
   ]
  },
  {
   "cell_type": "code",
   "execution_count": 15,
   "metadata": {},
   "outputs": [
    {
     "name": "stderr",
     "output_type": "stream",
     "text": [
      "                                                                                \r"
     ]
    },
    {
     "name": "stdout",
     "output_type": "stream",
     "text": [
      "Epoch:   0 | RMSE: 5.6716062023558775\n"
     ]
    },
    {
     "name": "stderr",
     "output_type": "stream",
     "text": [
      "                                                                                \r"
     ]
    },
    {
     "name": "stdout",
     "output_type": "stream",
     "text": [
      "Epoch:   5 | RMSE: 2.9486976355094137\n"
     ]
    },
    {
     "name": "stderr",
     "output_type": "stream",
     "text": [
      "                                                                                \r"
     ]
    },
    {
     "name": "stdout",
     "output_type": "stream",
     "text": [
      "Epoch:  10 | RMSE: 2.20581378798701\n"
     ]
    },
    {
     "name": "stderr",
     "output_type": "stream",
     "text": [
      "                                                                                \r"
     ]
    },
    {
     "name": "stdout",
     "output_type": "stream",
     "text": [
      "Epoch:  15 | RMSE: 1.7273999378244254\n"
     ]
    },
    {
     "name": "stderr",
     "output_type": "stream",
     "text": [
      "                                                                                \r"
     ]
    },
    {
     "name": "stdout",
     "output_type": "stream",
     "text": [
      "Epoch:  20 | RMSE: 1.3794408257628374\n"
     ]
    },
    {
     "name": "stderr",
     "output_type": "stream",
     "text": [
      "                                                                                \r"
     ]
    },
    {
     "name": "stdout",
     "output_type": "stream",
     "text": [
      "Epoch:  25 | RMSE: 1.0924914590545276\n"
     ]
    },
    {
     "name": "stderr",
     "output_type": "stream",
     "text": [
      "                                                                                \r"
     ]
    },
    {
     "name": "stdout",
     "output_type": "stream",
     "text": [
      "Epoch:  30 | RMSE: 0.8181740003591865\n"
     ]
    },
    {
     "name": "stderr",
     "output_type": "stream",
     "text": [
      "                                                                                \r"
     ]
    },
    {
     "name": "stdout",
     "output_type": "stream",
     "text": [
      "Epoch:  35 | RMSE: 0.587268893300057\n"
     ]
    },
    {
     "name": "stderr",
     "output_type": "stream",
     "text": [
      "                                                                                \r"
     ]
    },
    {
     "name": "stdout",
     "output_type": "stream",
     "text": [
      "Epoch:  40 | RMSE: 0.42673406283694854\n"
     ]
    },
    {
     "name": "stderr",
     "output_type": "stream",
     "text": [
      "                                                                                \r"
     ]
    },
    {
     "name": "stdout",
     "output_type": "stream",
     "text": [
      "Epoch:  45 | RMSE: 0.31997153939888606\n"
     ]
    },
    {
     "name": "stderr",
     "output_type": "stream",
     "text": [
      "[Stage 2571:>                                                       (0 + 1) / 1]\r"
     ]
    },
    {
     "name": "stdout",
     "output_type": "stream",
     "text": [
      "Giá trị trung bình của RMSE: 1.4467600128578855\n"
     ]
    },
    {
     "name": "stderr",
     "output_type": "stream",
     "text": [
      "                                                                                \r"
     ]
    },
    {
     "data": {
      "image/png": "[encoded data removed]",
      "text/plain": [
       "<Figure size 640x480 with 1 Axes>"
      ]
     },
     "metadata": {},
     "output_type": "display_data"
    }
   ],
   "source": [
    "#SGD training\n",
    "# Chuyển tập train_data thành RDD\n",
    "train_rdd = train_data.rdd.map(lambda row: (int(row[\"user_index\"]), int(row[\"movie_index\"]), float(row[\"rating\"])))\n",
    "# Vòng lặp qua các epoch\n",
    "for epoch in range(epochs):\n",
    "    train_rdd = train_rdd.map(lambda row: (\n",
    "        row[0],  # user_index\n",
    "        row[1],  # movie_index\n",
    "        row[2]   # rating\n",
    "        )).map(update)\n",
    "    rmse_train = sqrt(train_rdd.map(lambda row: (row[2] - np.dot(P[row[0]], Q[row[1]])) ** 2).mean())\n",
    "    rmse_train_list.append(rmse_train)\n",
    "    # Hiển thị thông tin\n",
    "    if epoch % 5 == 0:\n",
    "        print(f\"Epoch: {epoch:>3} | RMSE: {rmse_train}\")\n",
    "\n",
    "# Tính giá trị trung bình của RMSE qua tất cả các epoch\n",
    "rmse_avg = sum(rmse_train_list) / len(rmse_train_list)\n",
    "print(f\"Giá trị trung bình của RMSE: {rmse_avg}\")\n",
    "\n",
    "# Vẽ đồ thị RMSE qua các vòng lặp\n",
    "plt.plot(rmse_train_list)\n",
    "plt.title(\"RMSE over different iterations\")\n",
    "plt.xlabel(\"Epochs\")\n",
    "plt.ylabel(\"RMSE\")\n",
    "plt.show()"
   ]
  },
  {
   "cell_type": "markdown",
   "metadata": {},
   "source": [
    "1. RMSE qua từng epoch\n",
    "- Epoch 0-5:\n",
    "    RMSE giảm mạnh từ 5.67 xuống 2.95, cho thấy mô hình nhanh chóng học được các đặc điểm chính của dữ liệu trong các bước đầu tiên.\n",
    "\n",
    "- Epoch 10-20:\n",
    "    RMSE giảm đều từ 2.20 xuống 1.37, tốc độ giảm bắt đầu chậm hơn so với giai đoạn đầu. Đây là giai đoạn mô hình dần tiến gần đến hội tụ.\n",
    "\n",
    "- Epoch 25-45:\n",
    "    RMSE tiếp tục giảm rõ rệt, từ 1.09 xuống 0.31. Mô hình đạt hiệu suất rất cao và tiến gần đến giá trị tối ưu, như biểu đồ minh họa.\n",
    "\n",
    "- Trung bình RMSE:\n",
    "    Giá trị trung bình 1.4476 là kết quả tốt hơn nhiều so với mô hình ALS trước đó, cho thấy SGD phù hợp hơn với bài toán cụ thể này.\n",
    "\n",
    "2. Phân tích biểu đồ RMSE\n",
    "- Xu hướng giảm mạnh:\n",
    "    Biểu đồ RMSE giảm liên tục và dần tiến đến mức phẳng hơn ở các epoch cuối (từ epoch 35 trở đi). Điều này cho thấy mô hình SGD học hiệu quả và không gặp vấn đề như overfitting hoặc underfitting.\n",
    "\n",
    "- Giai đoạn hội tụ:\n",
    "    Biểu đồ có độ dốc cao ở giai đoạn đầu và giảm dần tốc độ khi tiến đến gần epoch 45. Điều này là dấu hiệu của việc SGD hội tụ đúng cách.\n",
    "\n",
    "3. Đánh giá tổng quan\n",
    "- Mô hình SGD trong trường hợp này vượt trội hơn về hiệu suất so với ALS (so sánh dựa trên trung bình RMSE).\n",
    "- Hiệu suất RMSE cuối:\n",
    "    - SGD đạt 0.3199 (epoch 45), rất thấp và có độ chính xác cao.\n",
    "    - Đây là mức hiệu suất tốt, thường phù hợp với các bài toán yêu cầu độ chính xác cao.\n",
    "\n",
    "4. Kết luận\n",
    "- Mô hình SGD thể hiện tốt với giá trị RMSE thấp và biểu đồ hội tụ ổn định."
   ]
  },
  {
   "cell_type": "code",
   "execution_count": 16,
   "metadata": {},
   "outputs": [
    {
     "name": "stdout",
     "output_type": "stream",
     "text": [
      "Test RMSE: 6.891187700025235\n"
     ]
    }
   ],
   "source": [
    "# Đánh giá trên tập test\n",
    "test_rdd = test_data.rdd.map(lambda row: (int(row[\"user_index\"]), int(row[\"movie_index\"]), float(row[\"rating\"])))\n",
    "# Tính RMSE trên tập test bằng cách lấy trung bình bình phương lỗi dự đoán.\n",
    "rmse_test = sqrt(test_rdd.map(lambda row: (row[2] - np.dot(P[row[0]], Q[row[1]])) ** 2).mean())\n",
    "print(f\"Test RMSE: {rmse_test}\")"
   ]
  },
  {
   "cell_type": "markdown",
   "metadata": {},
   "source": [
    "### 3.2. Xây dựng hệ thống gợi ý phim"
   ]
  },
  {
   "cell_type": "code",
   "execution_count": 17,
   "metadata": {},
   "outputs": [],
   "source": [
    "# Gợi ý phim cho người dùng\n",
    "def recommend_movies(user_id, P, Q, top_n):\n",
    "    # Lấy vector ẩn (latent vector) của người dùng.\n",
    "    user_vector = P[user_id]\n",
    "    # Tính điểm dự đoán cho tất cả các phim bằng cách nhân vector phim với vector người dùng.\n",
    "    scores = np.dot(Q, user_vector)\n",
    "    # Sắp xếp điểm theo thứ tự giảm dần và lấy top_n phim có điểm cao nhất.\n",
    "    recommended_movies = np.argsort(scores)[::-1][:top_n]\n",
    "    return recommended_movies"
   ]
  },
  {
   "cell_type": "code",
   "execution_count": 18,
   "metadata": {},
   "outputs": [
    {
     "name": "stdout",
     "output_type": "stream",
     "text": [
      "Top 10 bộ phim được gợi ý cho người dùng Dark Jedi:\n",
      "+--------+--------------------+-----------------+------------+-------+--------------------+------------+\n",
      "|movie_id|               title|original_language|vote_average|runtime|              genres|release_year|\n",
      "+--------+--------------------+-----------------+------------+-------+--------------------+------------+\n",
      "|  418078|   It Comes at Night|               en|         5.9|     91|[Drama, Horror, M...|        2017|\n",
      "|    1576|       Resident Evil|               en|         6.6|    100|[Action, Science ...|        2002|\n",
      "|  997120|Sniper: Rogue Mis...|               en|         6.3|     96|[Thriller, Action...|        2022|\n",
      "| 1184918|      The Wild Robot|               en|         8.4|    102|[Action, Science ...|        2024|\n",
      "|   11568| Blues Brothers 2000|               en|         5.3|    123|[Action, Crime, C...|        1998|\n",
      "|  787752|               Fresh|               en|         7.0|    115|  [Thriller, Horror]|        2022|\n",
      "|  338729|   The Beauty Inside|               ko|         7.7|    127|  [Fantasy, Romance]|        2015|\n",
      "|  453395|Doctor Strange in...|               en|         7.3|    126|[Fantasy, Action,...|        2022|\n",
      "|  619803|         The Roundup|               ko|         7.2|    106|[Thriller, Action...|        2022|\n",
      "|   18126|Hannah Montana: T...|               en|         6.6|    102|[Comedy, Drama, R...|        2009|\n",
      "+--------+--------------------+-----------------+------------+-------+--------------------+------------+\n",
      "\n"
     ]
    },
    {
     "name": "stderr",
     "output_type": "stream",
     "text": [
      "                                                                                \r"
     ]
    }
   ],
   "source": [
    "user_id_input = 13 \n",
    "user_id = rating_df.select(\"user_id\").filter(col(\"user_index\") == user_id_input).first()\n",
    "# Gợi ý 10 bộ phim cho người dùng bằng hàm recommend_movies.\n",
    "print(f'Top 10 bộ phim được gợi ý cho người dùng {user_id[\"user_id\"]}:')\n",
    "recommended_movies = recommend_movies(user_id_input, P, Q, 10)\n",
    "recommended_movie_list = []\n",
    "for i in recommended_movies:\n",
    "    row = rating_df.select(\"movie_id\").filter(col(\"movie_index\") == i).first()\n",
    "    movie = int(row[\"movie_id\"])\n",
    "    recommended_movie_list.append(movie)\n",
    "# Tạo DataFrame chỉ chứa các movie_id được gợi ý\n",
    "recommended_df = spark.createDataFrame([(movie_id,) for movie_id in recommended_movie_list], [\"movie_id\"])\n",
    "# Chuyển danh sách các movie_id được gợi ý thành DataFrame.\n",
    "movie_recs_with_info = recommended_df.join(new_movie_df, recommended_df[\"movie_id\"] == new_movie_df[\"id\"]) \\\n",
    "    .select(  \n",
    "        recommended_df[\"movie_id\"], \n",
    "        new_movie_df[\"title\"], \n",
    "        new_movie_df[\"original_language\"],\n",
    "        new_movie_df[\"vote_average\"], \n",
    "        new_movie_df[\"runtime\"],\n",
    "        new_movie_df[\"genres\"], \n",
    "        new_movie_df[\"release_year\"]\n",
    "    )\n",
    "movie_recs_with_info.show()"
   ]
  },
  {
   "cell_type": "code",
   "execution_count": 19,
   "metadata": {},
   "outputs": [],
   "source": [
    "# Dừng Spark session\n",
    "spark.stop()"
   ]
  },
  {
   "cell_type": "markdown",
   "metadata": {},
   "source": [
    "# 4.  Kết luận"
   ]
  },
  {
   "cell_type": "code",
   "execution_count": 30,
   "metadata": {},
   "outputs": [
    {
     "data": {
      "image/png": "[encoded data removed]",
      "text/plain": [
       "<Figure size 640x480 with 1 Axes>"
      ]
     },
     "metadata": {},
     "output_type": "display_data"
    }
   ],
   "source": [
    "# Cắt dữ liệu chỉ lấy đến vòng lặp thứ 20\n",
    "rmse_values_20 = rmse_values[:20]\n",
    "rmse_train_list_20 = rmse_train_list[:20]\n",
    "\n",
    "# Vẽ đồ thị\n",
    "plt.plot(rmse_values_20, label=\"ALS RMSE\", color='red')  # Đường màu đỏ\n",
    "plt.plot(rmse_train_list_20, label=\"SGD RMSE\", color='blue')  # Đường màu xanh\n",
    "# Thiết lập trục X là các số nguyên\n",
    "plt.xticks(range(20))  # Đảm bảo trục X chỉ hiển thị các số nguyên\n",
    "\n",
    "plt.title(\"RMSE over different iterations (up to 20 epochs)\")\n",
    "plt.xlabel(\"Epochs\")\n",
    "plt.ylabel(\"RMSE\")\n",
    "plt.legend()\n",
    "plt.show()"
   ]
  },
  {
   "cell_type": "markdown",
   "metadata": {},
   "source": [
    "Bảng so sánh dữ trên đồ thị kết quả RMSE của 2 mô hình\n",
    "| **Tiêu chí**                  | **Mô hình ALS**                                     | **Mô hình SGD**                                   |\n",
    "|-------------------------------|----------------------------------------------------|--------------------------------------------------|\n",
    "| **Giá trị RMSE ban đầu**      | 7.846 (epoch 1)                                    | 5.671 (epoch 0)                                  |\n",
    "| **Giá trị RMSE cuối**         | 4.827 (epoch 20)                                   | 0.320 (epoch 45)                                 |\n",
    "| **RMSE trung bình**           | 5.784                                              | 1.447                                            |\n",
    "| **Số epoch tối đa**           | 20                                                 | 45                                               |\n",
    "| **Xu hướng hội tụ**           | Giảm ổn định, hội tụ chậm dần ở epoch cuối.         | Giảm nhanh hơn, hội tụ sớm hơn.                 |\n",
    "| **Độ ổn định của RMSE**       | Ổn định nhưng giảm chậm ở các epoch cuối.           | Ổn định và giảm mạnh đến cuối.                   |\n",
    "| **Hiệu suất dự đoán**         | Trung bình                                         | Cao (RMSE nhỏ hơn đáng kể).                      |\n",
    "| **Thời gian đào tạo**         | Nhanh hơn.                                          |      Chậm hơn.                                  |\n"
   ]
  },
  {
   "cell_type": "markdown",
   "metadata": {},
   "source": [
    "Bảng kết luận\n",
    "| **Tiêu chí**                  | **Mô hình ALS**                                                                                     | **Mô hình SGD**                                                                      |\n",
    "|-------------------------------|----------------------------------------------------------------------------------------------------|--------------------------------------------------------------------------------------|\n",
    "| **Khả năng xử lý dữ liệu lớn** | **Vượt trội**: Tận dụng tốt các framework như Spark để xử lý dữ liệu phân tán, tối ưu cho dữ liệu lớn. | **Hạn chế**: Xử lý tuần tự, cần lưu trữ toàn bộ dữ liệu trong bộ nhớ, dễ gặp vấn đề với Big Data. |\n",
    "| **Hiệu quả trên dữ liệu thưa** | **Rất tốt**: Tự nhiên phù hợp với ma trận thưa nhờ kỹ thuật phân tích ma trận.                      | **Trung bình**: Cần tối ưu từng cặp dữ liệu, thời gian đào tạo lâu hơn với dữ liệu thưa. |\n",
    "| **Hỗ trợ tính toán phân tán**  | **Rất tốt**: Được thiết kế để chạy song song và phân tán (Spark MLlib, Hadoop).                    | **Hạn chế**: Không hỗ trợ tính toán phân tán tự nhiên, thường chạy trên một máy chủ đơn lẻ. |\n",
    "| **Tốc độ hội tụ**              | **Nhanh với dữ liệu lớn**: Hội tụ nhanh nhờ giải trực tiếp bài toán tối ưu bậc hai (Least Squares). | **Chậm hơn với dữ liệu lớn**: Cần nhiều epoch hơn để hội tụ, do tối ưu theo từng bước nhỏ. |\n",
    "| **Yêu cầu bộ nhớ**             | **Tiết kiệm bộ nhớ** khi kết hợp với phân tán, nhưng yêu cầu framework hỗ trợ.                     | **Cao**: Dữ liệu lớn cần lưu trữ trong bộ nhớ, gây quá tải nếu không đủ tài nguyên.    |\n",
    "| **Độ chính xác trên dữ liệu lớn** | **Tốt**: Thích hợp cho dữ liệu lớn và phức tạp, đạt hiệu quả đủ tốt với thông số phù hợp.           | **Rất tốt**: Với dữ liệu nhỏ, SGD có thể đạt chính xác cao hơn.                      |\n",
    "| **Tùy chỉnh hàm mất mát**      | **Hạn chế**: Chỉ hỗ trợ tối ưu hóa bằng Least Squares Loss.                                        | **Linh hoạt**: Hỗ trợ nhiều loại hàm mất mát, tùy chỉnh cho từng bài toán.           |\n",
    "| **Ứng dụng thực tế**           | Hệ thống gợi ý, xử lý dữ liệu lớn, đặc biệt là với các tập dữ liệu thưa (hệ thống đề xuất phim/sản phẩm). | Các bài toán nhỏ, yêu cầu tùy chỉnh cao hoặc xử lý dữ liệu đặc thù (như học sâu, dữ liệu liên tục). |\n"
   ]
  }
 ],
 "metadata": {
  "kernelspec": {
   "display_name": "Python 3",
   "language": "python",
   "name": "python3"
  },
  "language_info": {
   "codemirror_mode": {
    "name": "ipython",
    "version": 3
   },
   "file_extension": ".py",
   "mimetype": "text/x-python",
   "name": "python",
   "nbconvert_exporter": "python",
   "pygments_lexer": "ipython3",
   "version": "3.10.12"
  }
 },
 "nbformat": 4,
 "nbformat_minor": 2
}
